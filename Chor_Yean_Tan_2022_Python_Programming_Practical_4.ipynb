{
  "nbformat": 4,
  "nbformat_minor": 0,
  "metadata": {
    "colab": {
      "name": "Chor Yean Tan - 2022_Python_Programming_Practical_4.ipynb",
      "provenance": [],
      "collapsed_sections": [],
      "include_colab_link": true
    },
    "kernelspec": {
      "name": "python3",
      "display_name": "Python 3"
    }
  },
  "cells": [
    {
      "cell_type": "markdown",
      "metadata": {
        "id": "view-in-github",
        "colab_type": "text"
      },
      "source": [
        "<a href=\"https://colab.research.google.com/github/tancy1979/ctucc2022/blob/main/Chor_Yean_Tan_2022_Python_Programming_Practical_4.ipynb\" target=\"_parent\"><img src=\"https://colab.research.google.com/assets/colab-badge.svg\" alt=\"Open In Colab\"/></a>"
      ]
    },
    {
      "cell_type": "markdown",
      "metadata": {
        "id": "jp3BkDml8xiR"
      },
      "source": [
        "# **2022 Python Programming Practical 4**\n"
      ]
    },
    {
      "cell_type": "markdown",
      "metadata": {
        "id": "-U8w0oQW9P_b"
      },
      "source": [
        "**Q1. (Summing series 1)**  \n",
        "Write a recursive function sum_series1(i) to compute the following series:   \n",
        "m(i) = 1 + ½ + ⅓ + … + 1/i\n"
      ]
    },
    {
      "cell_type": "code",
      "metadata": {
        "id": "D0uTR7B-8qbF",
        "colab": {
          "base_uri": "https://localhost:8080/"
        },
        "outputId": "2a4f0552-6e66-423e-c0da-ce1cdd22debf"
      },
      "source": [
        "def sum_series1(i):\n",
        "    if i == 1:\n",
        "      return 1\n",
        "    else:\n",
        "      return sum_series1(i-1) + 1/i \n",
        "\n",
        "# main\n",
        "for i in range(1,6):\n",
        "  print(sum_series1(i))\n",
        "\n",
        "# print(sum_series1(1))\n",
        "# print(sum_series1(5))"
      ],
      "execution_count": null,
      "outputs": [
        {
          "output_type": "stream",
          "name": "stdout",
          "text": [
            "1\n",
            "1.5\n",
            "1.8333333333333333\n",
            "2.083333333333333\n",
            "2.283333333333333\n"
          ]
        }
      ]
    },
    {
      "cell_type": "markdown",
      "metadata": {
        "id": "7Ui5CuS_9Za1"
      },
      "source": [
        "**Q2. (Summing series 2)**  \n",
        "Write a recursive function sum_series2(i) to compute the following series:   \n",
        "m(i) = ⅓ + ⅖ + 3/7 + 4/9 + 5/11 + 6/13 + … + i/(2i+1)\n"
      ]
    },
    {
      "cell_type": "code",
      "metadata": {
        "id": "CfkRAAWV9cXS",
        "colab": {
          "base_uri": "https://localhost:8080/"
        },
        "outputId": "db511b60-6ff1-41d1-989c-fcaad1d437c3"
      },
      "source": [
        "def sum_series2(i):\n",
        "    if i == 1:\n",
        "      return 1/3\n",
        "    else:\n",
        "      return sum_series2(i-1) + i/(2*i+1) \n",
        "\n",
        "# main\n",
        "for i in range(1,6):\n",
        "  print(sum_series2(i))\n",
        "\n",
        "# main\n",
        "print(sum_series2(1))\n",
        "print(sum_series2(5))"
      ],
      "execution_count": null,
      "outputs": [
        {
          "output_type": "stream",
          "name": "stdout",
          "text": [
            "0.3333333333333333\n",
            "0.7333333333333334\n",
            "1.161904761904762\n",
            "1.6063492063492064\n",
            "2.060894660894661\n",
            "0.3333333333333333\n",
            "2.060894660894661\n"
          ]
        }
      ]
    },
    {
      "cell_type": "markdown",
      "metadata": {
        "id": "aVhHiT8w9c7d"
      },
      "source": [
        "**Q3. (Computing GCD)**  \n",
        "The greatest common divisor (GCD) of two positive integers m and n, gcd(m, n) can be defined recursively as follows:  \n",
        "\n",
        "If m % n is 0, gcd(m, n) is n.  \n",
        "Otherwise, gcd(m, n) is gcd(n, m % n).  \n",
        "\n",
        "Write a recursive function gcd(m, n) to find the GCD. Write a test program that computes gcd(24, 16) and gcd(255, 25)."
      ]
    },
    {
      "cell_type": "code",
      "metadata": {
        "id": "PwRmweEa9fny",
        "outputId": "e5d8880b-12ad-41a5-9de6-0edc9dd7392b",
        "colab": {
          "base_uri": "https://localhost:8080/"
        }
      },
      "source": [
        "def gcd(m, n):\n",
        "    if m % n == 0:\n",
        "      return n\n",
        "    else:\n",
        "      return gcd(n, m % n)\n",
        "\n",
        "# main\n",
        "print(gcd(24, 16))\n",
        "print(gcd(255, 25))\n",
        "print(gcd(7,91))\n",
        "print(gcd(91,7))"
      ],
      "execution_count": null,
      "outputs": [
        {
          "output_type": "stream",
          "name": "stdout",
          "text": [
            "8\n",
            "5\n",
            "7\n",
            "7\n"
          ]
        }
      ]
    },
    {
      "cell_type": "markdown",
      "metadata": {
        "id": "wWe4kRS8ZmwP"
      },
      "source": [
        "**Q4. (Reverse the digits in an integer)**  \n",
        "Write a recursive function reverse_int(n) that reverses the digits of an integer n: \n",
        "\n",
        "For example, reverse_int(12345) displays 54321."
      ]
    },
    {
      "cell_type": "code",
      "metadata": {
        "id": "aOozTwoR9j9B",
        "outputId": "17f54e37-0bb7-45e9-855d-52ed744ebaf0",
        "colab": {
          "base_uri": "https://localhost:8080/"
        }
      },
      "source": [
        "def reverse_int(n):\n",
        "    n = str(n)\n",
        "    if len(n) == 1:\n",
        "      return n\n",
        "    else:\n",
        "      return n[-1] + reverse_int(n[:-1]) \n",
        "\n",
        "# main\n",
        "print(reverse_int(8)) # test terminating case\n",
        "print(reverse_int(12345)) # test recursive case"
      ],
      "execution_count": null,
      "outputs": [
        {
          "output_type": "stream",
          "name": "stdout",
          "text": [
            "8\n",
            "54321\n"
          ]
        }
      ]
    },
    {
      "cell_type": "markdown",
      "metadata": {
        "id": "lE0ScX9e9kcg"
      },
      "source": [
        "**Q5. (Occurrences of a specified character in a string)**  \n",
        "Write a recursive function count_letter(str, ch) that finds the number of occurrences of a specified letter ch in a string str: \n",
        "\n",
        "For example, count_letter(\"Welcome\", 'e') returns 2."
      ]
    },
    {
      "cell_type": "code",
      "metadata": {
        "id": "sE_bxwDs9mf6",
        "colab": {
          "base_uri": "https://localhost:8080/"
        },
        "outputId": "ca1d0167-2d62-4c94-b97b-bf5b2dd02be2"
      },
      "source": [
        "def count_letter(word, letter):\n",
        "  if len(word) == 1: # single letter word\n",
        "    if word == letter:\n",
        "      return 1\n",
        "    else:\n",
        "      return 0\n",
        "  else: # word has at least 2 letters\n",
        "    if word[-1] == letter:\n",
        "      return count_letter(word[:-1],letter) + 1\n",
        "    else:\n",
        "      return count_letter(word[:-1],letter)\n",
        "\n",
        "print(count_letter(\"Welcome\", 'w'))\n",
        "print(count_letter(\"Welcomeeeeeee\", 'e'))"
      ],
      "execution_count": null,
      "outputs": [
        {
          "output_type": "stream",
          "name": "stdout",
          "text": [
            "0\n",
            "8\n"
          ]
        }
      ]
    },
    {
      "cell_type": "markdown",
      "metadata": {
        "id": "KSviQY0T9m7Q"
      },
      "source": [
        "**Q6. (Summing the digits in an integer)**  \n",
        "Write a recursive function sum_digits(n) that computes the sum of the digits in an integer n: \n",
        "\n",
        "For example, sum_digits(234) returns 9."
      ]
    },
    {
      "cell_type": "code",
      "metadata": {
        "id": "YbH9Pbul9rK-",
        "colab": {
          "base_uri": "https://localhost:8080/"
        },
        "outputId": "4ecacc51-604a-457f-ef4c-525b2cc669de"
      },
      "source": [
        "def sum_digits(n):\n",
        "  if 0 < n < 10:\n",
        "    return n\n",
        "  else:\n",
        "    return n % 10 + sum_digits(n // 10)\n",
        "\n",
        "print(sum_digits(234))\n",
        "print(sum_digits(20))"
      ],
      "execution_count": null,
      "outputs": [
        {
          "output_type": "stream",
          "name": "stdout",
          "text": [
            "9\n",
            "2\n"
          ]
        }
      ]
    },
    {
      "cell_type": "markdown",
      "metadata": {
        "id": "V9Z95nlg97e4"
      },
      "source": [
        "**Q7. (Finding the largest number in an array)**  \n",
        "Write a recursive function find_largest(alist) that returns the largest integer in an array alist.  \n",
        "\n",
        "For example, given alist = [5, 1, 8, 7, 2], sum_digits(alist) returns 8.\n",
        "\n"
      ]
    },
    {
      "cell_type": "code",
      "metadata": {
        "id": "1AZvvAW499PK",
        "colab": {
          "base_uri": "https://localhost:8080/"
        },
        "outputId": "736aa626-274e-4f53-a723-8250dc14a5ad"
      },
      "source": [
        "def find_largest(A):\n",
        "  if len(A) == 1:\n",
        "    return A[0]\n",
        "  else:\n",
        "    return max(A[-1], find_largest(A[:len(A)-1])) # compare from back\n",
        "\n",
        "blist = [5, 1, 8, 7, 2]\n",
        "find_largest(blist)"
      ],
      "execution_count": 4,
      "outputs": [
        {
          "output_type": "execute_result",
          "data": {
            "text/plain": [
              "8"
            ]
          },
          "metadata": {},
          "execution_count": 4
        }
      ]
    },
    {
      "cell_type": "code",
      "source": [
        "def find_largest(A):\n",
        "  if len(A) == 1:\n",
        "    return A[0]\n",
        "  else:\n",
        "    return max(A[0], find_largest(A[1:])) # compare from front\n",
        "\n",
        "blist = [5, 1, 8, 700, 2]\n",
        "find_largest(blist)"
      ],
      "metadata": {
        "colab": {
          "base_uri": "https://localhost:8080/"
        },
        "id": "8HfH3qNLYzYt",
        "outputId": "21ff8fba-c9c4-496a-bf27-8fb69c55c48d"
      },
      "execution_count": 6,
      "outputs": [
        {
          "output_type": "execute_result",
          "data": {
            "text/plain": [
              "700"
            ]
          },
          "metadata": {},
          "execution_count": 6
        }
      ]
    },
    {
      "cell_type": "markdown",
      "metadata": {
        "id": "KNHIvXFleFFH"
      },
      "source": [
        "**Q8. (Finding the number of uppercase letters in a string)**  \n",
        "Write a recursive function find_num_uppercase(str) to return the number of uppercase letters in a string str.\n",
        "\n",
        "For example, find_num_uppercase('Good MorninG!') returns 3.\n",
        "\n"
      ]
    },
    {
      "cell_type": "code",
      "metadata": {
        "id": "-CZ0M7j6eHQe",
        "colab": {
          "base_uri": "https://localhost:8080/"
        },
        "outputId": "cd385b35-228a-486a-fe86-dd37cf37c708"
      },
      "source": [
        "def find_num_uppercase(s):\n",
        "  if len(s) == 1: # for string with one character\n",
        "    if s.isupper(): \n",
        "      return 1  # if character is upper case, count 1\n",
        "    else:\n",
        "      return 0  # if character is lower case, count 0\n",
        "  else: # for strings with more than one character\n",
        "    return find_num_uppercase(s[0]) + find_num_uppercase(s[1:])\n",
        "\n",
        "print(find_num_uppercase(\"GGgggg\"))\n",
        "find_num_uppercase(\"  xoxoXOXO Good morninG!  \")"
      ],
      "execution_count": 10,
      "outputs": [
        {
          "output_type": "stream",
          "name": "stdout",
          "text": [
            "2\n"
          ]
        },
        {
          "output_type": "execute_result",
          "data": {
            "text/plain": [
              "6"
            ]
          },
          "metadata": {},
          "execution_count": 10
        }
      ]
    },
    {
      "cell_type": "code",
      "source": [
        ""
      ],
      "metadata": {
        "id": "IhE6oGokaN0_"
      },
      "execution_count": null,
      "outputs": []
    }
  ]
}