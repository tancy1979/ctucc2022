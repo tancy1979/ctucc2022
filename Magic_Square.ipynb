{
  "nbformat": 4,
  "nbformat_minor": 0,
  "metadata": {
    "colab": {
      "name": "Magic Square.ipynb",
      "provenance": [],
      "collapsed_sections": [],
      "include_colab_link": true
    },
    "kernelspec": {
      "name": "python3",
      "display_name": "Python 3"
    },
    "language_info": {
      "name": "python"
    }
  },
  "cells": [
    {
      "cell_type": "markdown",
      "metadata": {
        "id": "view-in-github",
        "colab_type": "text"
      },
      "source": [
        "<a href=\"https://colab.research.google.com/github/tancy1979/ctucc2022/blob/main/Magic_Square.ipynb\" target=\"_parent\"><img src=\"https://colab.research.google.com/assets/colab-badge.svg\" alt=\"Open In Colab\"/></a>"
      ]
    },
    {
      "cell_type": "code",
      "execution_count": null,
      "metadata": {
        "colab": {
          "base_uri": "https://localhost:8080/"
        },
        "id": "IbvrFupG_CjA",
        "outputId": "5e1a1e7d-f0e4-4a40-d01d-ed8e57987c32"
      },
      "outputs": [
        {
          "output_type": "stream",
          "name": "stdout",
          "text": [
            "10011\n"
          ]
        }
      ],
      "source": [
        "\n",
        "def A():\n",
        "  A=[2*i-1 for i in range(1,17,1)]\n",
        "  return A\n",
        "  #print(A)\n",
        "\n",
        "def B1():\n",
        "  B1= [2+4*i for i in range(0,8,1)]\n",
        "  B2= [2+4*i+1 for i in range(0,8,1)]\n",
        "  B1.extend(B2)\n",
        "  B1.sort()\n",
        "  return B1\n",
        "  #print(B1)\n",
        "\n",
        "def C2():\n",
        "  C2=[]\n",
        "  for i in range(0,4,1):\n",
        "    j=4+8*i\n",
        "    C1=[j,j+1,j+2,j+3]\n",
        "    C2.extend(C1)\n",
        "  return C2\n",
        "  #print(C2)\n",
        "\n",
        "def D2():\n",
        "  D2=[]\n",
        "  for i in range(0,2,1):\n",
        "    j=8+16*i\n",
        "    D1=[j,j+1,j+2,j+3,j+4,j+5,j+6,j+7]\n",
        "    D2.extend(D1)\n",
        "  return D2\n",
        "  #print(D2)\n",
        "\n",
        "def E():\n",
        "  E=[]\n",
        "  for i in range(16,32,1):\n",
        "    E.append(i)\n",
        "  return E\n",
        "  #print(E)\n",
        "\n",
        "## player is asked the questions and the gamehost will have hte binary code to guess the deci number\n",
        "'''\n",
        "print(\"Think of a number between 0 and 31 inclusive. Answer the following questions. \")\n",
        "print()\n",
        "\n",
        "binary=\"\"\n",
        "\n",
        "for element in [A(),B1(),C2(),D2(),E()]: \n",
        "  print(\"Is your number found in \",element,\"?\")\n",
        "  ans_element=input(\"key '1' for yes and '0' for no.: \")\n",
        "  binary=ans_element+binary\n",
        "print(binary)\n",
        "'''\n",
        "\n",
        "## code outpus the binary number based on MAGIC SQUARE\n",
        "BINARY=\"\"\n",
        "x=19\n",
        "for mlist in [A(),B1(),C2(),D2(),E()]:\n",
        "  if x in mlist:\n",
        "    BINARY='1'+BINARY\n",
        "  else: \n",
        "    BINARY='0'+ BINARY\n",
        "print(BINARY)\n",
        "\n",
        "  "
      ]
    },
    {
      "cell_type": "code",
      "source": [
        ""
      ],
      "metadata": {
        "id": "JUbcXqzEEdig"
      },
      "execution_count": null,
      "outputs": []
    }
  ]
}