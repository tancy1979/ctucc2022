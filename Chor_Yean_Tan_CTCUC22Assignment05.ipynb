{
  "nbformat": 4,
  "nbformat_minor": 0,
  "metadata": {
    "colab": {
      "name": "Chor Yean Tan - CTCUC22Assignment05.ipynb",
      "provenance": [],
      "include_colab_link": true
    },
    "kernelspec": {
      "name": "python3",
      "display_name": "Python 3"
    },
    "language_info": {
      "name": "python"
    }
  },
  "cells": [
    {
      "cell_type": "markdown",
      "metadata": {
        "id": "view-in-github",
        "colab_type": "text"
      },
      "source": [
        "<a href=\"https://colab.research.google.com/github/tancy1979/ctucc2022/blob/main/Chor_Yean_Tan_CTCUC22Assignment05.ipynb\" target=\"_parent\"><img src=\"https://colab.research.google.com/assets/colab-badge.svg\" alt=\"Open In Colab\"/></a>"
      ]
    },
    {
      "cell_type": "markdown",
      "source": [
        "# Assignment 5 Sorting Machine\n",
        "\n",
        "**Task: Design and implement an awesome sorting machine.**\n",
        "\n",
        "**Baseline requirement:** Design an (O/A)-level appropriate assignment to asssess understanding and application of one or more of the following sorting algorithm(s):\n",
        "\n",
        "- bubble sort\n",
        "- insertion sort\n",
        "- quick sort\n",
        "- merge sort\n",
        "\n",
        "You may should provide suitable dataset(s) for testing purposes. Justify the choice of dataset(s) used.\n",
        "\n",
        "**Bonus requirement:** For differentiated instruction to higher ability students, or to connect students to the real world beyond academic toy or exam style problems, design a wicked (https://en.wikipedia.org/wiki/Wicked_problem) extension/component to make your sorting machine even more awesome! You can/should apply the computational thinking ideas of (not exhaustively):\n",
        "\n",
        "- abstraction\n",
        "- decomposition\n",
        "- pattern recognition \n",
        "- algorithm design \n",
        "\n",
        "(You are not expected to solve your own wicked problem. :)\n",
        "\n",
        "Happy designing/coding! :)"
      ],
      "metadata": {
        "id": "l_sl9GNIOk1Y"
      }
    },
    {
      "cell_type": "markdown",
      "source": [
        "Submit either \n",
        "- a video walkthrough  \n",
        "\n",
        "or\n",
        "\n",
        "- a write-up\n",
        "\n",
        "explaining how your sorting works via the end of session feedback form https://forms.gle/kku2YMgxVVntTFjD9. :)\n",
        "\n",
        "Focus will be on sorting machine features and justifying appropriate programming constructs, data structures and algorithms used, as in how you would explain it to your students."
      ],
      "metadata": {
        "id": "izHSsPuLte_u"
      }
    },
    {
      "cell_type": "markdown",
      "source": [
        "## Assignment for student:\n",
        "The code to implement a bubble sort for numbers is typed below.\n",
        "\n",
        "You have to:\n",
        "\n",
        "1. Type in comments at `# comment here` to explain what the code does.\n",
        "2. At certain parts of the code you may see something like `# Q1`. That means that there is a question that you need to answer.\n",
        "3. Provide at one or two suggestions as to how the code can be improved."
      ],
      "metadata": {
        "id": "eLYBF0qn91B_"
      }
    },
    {
      "cell_type": "code",
      "source": [
        "# bubble sort numbers in descending order \n",
        "def bubbleSort(x): # Q1\n",
        "    n = len(x)\n",
        "    for i in range(n-1): # Q2\n",
        "        for j in range(0, n-i-1): \n",
        "            if x[j] < x[j + 1] : # comment here\n",
        "                x[j], x[j + 1] = x[j + 1], x[j]        \n",
        "    return x          \n",
        "\n",
        "# main\n",
        "numstr = \"\"\n",
        "numarr = [] # comment here\n",
        "while numstr != \"x\": # comment here\n",
        "  numstr = input(\"Enter number (press x to exit): \") # Q3\n",
        "  if numstr != \"x\": \n",
        "    numarr.append(int(numstr)) \n",
        "print(numarr)\n",
        " \n",
        "y = bubbleSort(numarr) # comment here\n",
        "print(\"Sorted list is:\")\n",
        "for i in range(len(numarr)):\n",
        "    print(y[i], end = \" \") # Q4"
      ],
      "metadata": {
        "id": "h4PtJToK9zsY"
      },
      "execution_count": null,
      "outputs": []
    },
    {
      "cell_type": "markdown",
      "source": [
        "#Questions\n",
        "Q1: What class of object is `x` is for the argument of the funciton `bubblesort`?\n",
        "\n",
        "Q2: Why is `i in range(n-1)` instead of `range(n)`?\n",
        "\n",
        "Q3: Is it possible to have this line of code `numstr = input(\"Enter number (press x to exit): \")` before the `while` loop? What difference will it make if this was the case?\n",
        "\n",
        "Q4: Explain what the argument `end = \" \"` in the `print` function does.\n",
        "\n",
        "Optional question:\n",
        "How can this code be used to sort colours, words, etc? You do not have to write the code to do so. What other objects or properties can you sort?\n",
        "\n"
      ],
      "metadata": {
        "id": "Ns5W2JsYVB-h"
      }
    },
    {
      "cell_type": "markdown",
      "source": [
        "#Answers\n",
        "Type your answers here."
      ],
      "metadata": {
        "id": "u76thkw8Zkrj"
      }
    },
    {
      "cell_type": "markdown",
      "source": [
        "# Improving the code\n",
        "How can you improve the code? Edit the code and test if your code for test cases "
      ],
      "metadata": {
        "id": "bVbLYn2KZ3bv"
      }
    },
    {
      "cell_type": "code",
      "source": [
        "# Type your improved code here. \n",
        "# You can copy and paste the code from above and edit it.\n",
        "# Test your code using the dataset (-5, 2, 4, 0).\n",
        "# You may want to look at the while loop in the definition of the function.\n",
        "# You may want to look at how you can improve the printing of the sorted list."
      ],
      "metadata": {
        "id": "Vpms-sGaaMDW"
      },
      "execution_count": null,
      "outputs": []
    },
    {
      "cell_type": "markdown",
      "source": [
        "#Suggested Answers"
      ],
      "metadata": {
        "id": "GeNd2bL2Utiv"
      }
    },
    {
      "cell_type": "code",
      "source": [
        "# bubble sort numbers in descending order \n",
        "def bubbleSort(x): # Q1\n",
        "    n = len(x)\n",
        "    for i in range(n-1): # Q2\n",
        "        for j in range(0, n-i-1): \n",
        "            if x[j] < x[j + 1] : # Swap if the element before is less than the next element\n",
        "                x[j], x[j + 1] = x[j + 1], x[j]\n",
        "    return x          \n",
        "\n",
        "# main\n",
        "numstr = \"\"\n",
        "numarr = [] # list to contain numbers to sort\n",
        "while numstr != \"x\": # terminate input when user keys in \"x\"\n",
        "  numstr = input(\"Enter number (press x to exit): \") # Q3\n",
        "  if numstr != \"x\": \n",
        "    numarr.append(int(numstr))\n",
        "print(numarr)\n",
        " \n",
        "y = bubbleSort(numarr) # sorted list\n",
        "print(\"Sorted list is:\")\n",
        "for i in range(len(numarr)):\n",
        "    print(y[i], end = \" \") # Q4"
      ],
      "metadata": {
        "id": "1nexQbfw1Ui4"
      },
      "execution_count": null,
      "outputs": []
    },
    {
      "cell_type": "markdown",
      "source": [
        "#Suggested answers:\n",
        "1. list\n",
        "2. Maximum number of comparisons for sorting n objects in n-1.\n",
        "3. Yes. If the user keys in 'x', the while loop is exited immediately. If the use keys in a number, the while loop is effected until the user keys in 'x'.\n",
        "4. It prints the numbers in the same line with a space as the seperator.\n"
      ],
      "metadata": {
        "id": "7UnupEtucuZX"
      }
    }
  ]
}