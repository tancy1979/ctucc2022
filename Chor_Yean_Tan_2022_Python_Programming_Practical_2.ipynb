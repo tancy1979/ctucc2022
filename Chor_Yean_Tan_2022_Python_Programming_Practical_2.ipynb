{
  "nbformat": 4,
  "nbformat_minor": 0,
  "metadata": {
    "colab": {
      "name": "Chor Yean Tan - 2022_Python_Programming_Practical_2.ipynb",
      "provenance": [],
      "collapsed_sections": [],
      "include_colab_link": true
    },
    "kernelspec": {
      "name": "python3",
      "display_name": "Python 3"
    }
  },
  "cells": [
    {
      "cell_type": "markdown",
      "metadata": {
        "id": "view-in-github",
        "colab_type": "text"
      },
      "source": [
        "<a href=\"https://colab.research.google.com/github/tancy1979/ctucc2022/blob/main/Chor_Yean_Tan_2022_Python_Programming_Practical_2.ipynb\" target=\"_parent\"><img src=\"https://colab.research.google.com/assets/colab-badge.svg\" alt=\"Open In Colab\"/></a>"
      ]
    },
    {
      "cell_type": "markdown",
      "metadata": {
        "id": "jp3BkDml8xiR"
      },
      "source": [
        "# **2022 Python Programming Practical 2**"
      ]
    },
    {
      "cell_type": "markdown",
      "metadata": {
        "id": "-U8w0oQW9P_b"
      },
      "source": [
        "**Q1. (Check if number is odd or even)**\n",
        "\n",
        "Write a program that reads an integer and checks whether it is odd or even. \n",
        "\n",
        "Sample interaction:\n",
        "```\n",
        "Enter number: 25\n",
        "25 is odd\n",
        "\n",
        "Enter number: 8\n",
        "8 is even\n",
        "\n",
        "```"
      ]
    },
    {
      "cell_type": "code",
      "metadata": {
        "id": "D0uTR7B-8qbF",
        "colab": {
          "base_uri": "https://localhost:8080/"
        },
        "outputId": "1bef1b9e-edcc-4876-a8ea-35d9ea12f5c8"
      },
      "source": [
        "# input\n",
        "num = int(input(\"Type an integer: \"))\n",
        "print(num)\n",
        "# process\n",
        "if num % 2 ==0: # if an integer is even, the remainder when divided by 2 is 0\n",
        "    print(\"The integer \", num,  \" is even.\")\n",
        "else:\n",
        "    print(\"The integer \", num, \" is odd.\")"
      ],
      "execution_count": null,
      "outputs": [
        {
          "output_type": "stream",
          "name": "stdout",
          "text": [
            "Type an integer: 34\n",
            "34\n",
            "The integer  34  is even.\n"
          ]
        }
      ]
    },
    {
      "cell_type": "markdown",
      "metadata": {
        "id": "7Ui5CuS_9Za1"
      },
      "source": [
        "**Q2. (Validate triangles and compute perimeter)**\n",
        "\n",
        "Write a program that reads three edges for a triangle and determines whether the input is valid. The input is valid if the sum of any two edges is greater than the third edge. The program will compute the perimeter of the triangle if the input is valid. Otherwise, display that the input is invalid. \n",
        "\n",
        "Sample interaction:\n",
        "```\n",
        "Enter side 1: 2\n",
        "Enter side 2: 2\n",
        "Enter side 3: 1\n",
        "Perimeter = 5\n",
        "\n",
        "Enter side 1: 1\n",
        "Enter side 2: 2\n",
        "Enter side 3: 1\n",
        "Invalid triangle!\n",
        "\n",
        "```\n",
        "\n",
        "\n"
      ]
    },
    {
      "cell_type": "code",
      "metadata": {
        "id": "CfkRAAWV9cXS",
        "colab": {
          "base_uri": "https://localhost:8080/"
        },
        "outputId": "e2ee5fda-f93d-4687-d1c0-721d97d72b2f"
      },
      "source": [
        "# Input for 3 edges\n",
        "s1 = float(input(\"Length of first side: \"))\n",
        "s2 = float(input(\"Length of second side: \"))\n",
        "s3 = float(input(\"Length of third side: \"))\n",
        "\n",
        "# Check for validity\n",
        "# Sum of any 2 edges must be greater than the other edge to be valid\n",
        "total12 = s1 + s2\n",
        "total13 = s1 + s3\n",
        "total23 = s2 + s3\n",
        "perimeter = s1 + s2 + s3\n",
        "if (total12 > s3) and (total13 > s2) and (total23 > s1):\n",
        "    print(\"The sides form a triangle.\")\n",
        "    print(\"The perimeter of the triangle is\", perimeter, \".\")\n",
        "else:\n",
        "    print(\"The sides do not form a triangle.\")"
      ],
      "execution_count": null,
      "outputs": [
        {
          "output_type": "stream",
          "name": "stdout",
          "text": [
            "Length of first side: 3\n",
            "Length of second side: 2\n",
            "Length of third side: 5\n",
            "The sides do not form a triangle.\n"
          ]
        }
      ]
    },
    {
      "cell_type": "markdown",
      "metadata": {
        "id": "aVhHiT8w9c7d"
      },
      "source": [
        "**Q3. (Determine grade)**\n",
        "\n",
        "Write a program that prompts the user to enter a score between 0 and 100 inclusive and output the corresponding grade as well as a Pass/Fail status. Output an error message if the entered score in not within the valid range. The grading system is as follows (S and U are not passes):\n",
        "\n",
        "A: 70 - 100  \n",
        "B: 60 - 69  \n",
        "C: 55 - 59  \n",
        "D: 50 - 54  \n",
        "E: 45 - 49  \n",
        "S: 35 - 44  \n",
        "U: 0 - 34\n",
        "\n",
        "Sample interaction:\n",
        "```\n",
        "Enter score: 73\n",
        "A\n",
        "Pass\n",
        "\n",
        "Enter score: 37\n",
        "S\n",
        "Fail\n",
        "\n",
        "Enter Score: -1\n",
        "Invalid! Score must be within 0 - 100.\n",
        "\n",
        "```"
      ]
    },
    {
      "cell_type": "code",
      "source": [
        "# input score \n",
        "score = int(input(\"Enter a score to nearest integer: \"))\n",
        "\n",
        "# print the grade\n",
        "if score > 100:\n",
        "    print(\"Score must be 0 to 100.\")\n",
        "elif 70 <= score <= 100:\n",
        "    print(\"A\")\n",
        "elif 60 <= score <= 69:\n",
        "    print(\"B\")\n",
        "elif 55 <= score <= 59:\n",
        "    print(\"C\")\n",
        "elif 50 <= score <= 54:\n",
        "    print(\"D\")\n",
        "elif 45 <= score <= 49:\n",
        "    print(\"E\")\n",
        "elif 40 <= score <= 44:\n",
        "    print(\"S\")\n",
        "else: # score <= 40 is U\n",
        "    print(\"U\")\n",
        "\n",
        "# print pass or fail\n",
        "if score > 100:\n",
        "    print(\"Please enter again.\")\n",
        "elif 45 <=score <= 100:\n",
        "    print(\"Pass\")\n",
        "else: # score < 45 is fail\n",
        "    print(\"Fail\")"
      ],
      "metadata": {
        "colab": {
          "base_uri": "https://localhost:8080/"
        },
        "id": "PZkCwfmLS525",
        "outputId": "b13dd800-aaca-4581-ec17-66777d2fae96"
      },
      "execution_count": null,
      "outputs": [
        {
          "output_type": "stream",
          "name": "stdout",
          "text": [
            "Enter a score to nearest integer: 43\n",
            "S\n",
            "Fail\n"
          ]
        }
      ]
    },
    {
      "cell_type": "markdown",
      "metadata": {
        "id": "GwAIqQNY9gFd"
      },
      "source": [
        "**Q4. (Determine leap year)**\n",
        "\n",
        "Write a program that prompts the user to enter a year and determines whether it is a leap year. A year is a leap year if it is divisible by 4 but not 100, or is divisible by 400. \n",
        "\n",
        "Sample interaction:\n",
        "```\n",
        "Enter year: 2020\n",
        "Leap\n",
        "\n",
        "Enter year: 2019\n",
        "Non-Leap\n",
        "```"
      ]
    },
    {
      "cell_type": "code",
      "metadata": {
        "id": "aOozTwoR9j9B",
        "colab": {
          "base_uri": "https://localhost:8080/"
        },
        "outputId": "299840cb-97e6-4ce1-aeba-8478a882bdc7"
      },
      "source": [
        "# assume invalid year\n",
        "year = -1\n",
        "\n",
        "while year <= 0: \n",
        "    print(\"Enter year (must be positive number): \")\n",
        "    year = int(input(\"Enter year: \"))\n",
        "\n",
        "# check if year is divisible by 4 but not by 100\n",
        "if (year % 4 == 0 and year % 100 != 0) or year % 400 == 0: \n",
        "    print(\"The year \", year, \"is a leap year.\")\n",
        "else:\n",
        "    print(\"The year \", year, \"is not a leap year.\")"
      ],
      "execution_count": null,
      "outputs": [
        {
          "output_type": "stream",
          "name": "stdout",
          "text": [
            "Enter year (must be positive number): \n",
            "Enter year: 2000\n",
            "The year  2000 is a leap year.\n"
          ]
        }
      ]
    },
    {
      "cell_type": "markdown",
      "metadata": {
        "id": "lE0ScX9e9kcg"
      },
      "source": [
        "**Q5. (Find number of days in a month)**\n",
        "\n",
        "Write a program that prompts the user to enter the month and year, and displays the number of days in the month. Sample interaction:\n",
        "```\n",
        "Enter month: 2\n",
        "Enter year: 2020\n",
        "February 2020 has 29 days.\n",
        "\n",
        "Enter month: 3\n",
        "Enter year: 2021\n",
        "March 2021 has 31 days.\n",
        "\n",
        "```"
      ]
    },
    {
      "cell_type": "code",
      "metadata": {
        "id": "sE_bxwDs9mf6"
      },
      "source": [
        "#assume wrong month and year\n",
        "month = 0\n",
        "year = 0\n",
        "\n",
        "# set variable(s)\n",
        "month31 = [1, 3, 5, 7, 8, 10 , 12] # months with 31 days\n",
        "monthdict = {1: \"January\", 3: \"March\", 4: \"April\", 5: \"May\", 6: \"June\", \n",
        "             7: \"July\", 8: \"August\", 9: \"September\", 10: \"October\", 11: \"November\", 12: \"December\"}\n",
        "\n",
        "# input\n",
        "while (month <= 0) or (month >12):\n",
        "    print(\"Month (1 to 12)\")\n",
        "    month = int(input(\"Enter the month: \"))\n",
        "while (year <= 0):\n",
        "    print(\"Year (positive integer)\")\n",
        "    year = int(input(\"Enter the year: \"))\n",
        "\n",
        "#process\n",
        "if month == 2: # for February, 29 days in leap year\n",
        "    if (year % 4 == 0 and year % 100 != 0) or year % 400 == 0: # check leap year\n",
        "        print(\"February\", year, \"has 29 days.\")\n",
        "    else:\n",
        "        print(\"February\", year, \"has 28 days.\")\n",
        "elif month in month31:\n",
        "    print(monthdict[month],year, \"has 31 days.\")\n",
        "else:\n",
        "    print(monthdict[month],year, \"has 30 days.\") "
      ],
      "execution_count": null,
      "outputs": []
    },
    {
      "cell_type": "markdown",
      "metadata": {
        "id": "KSviQY0T9m7Q"
      },
      "source": [
        "**Q6. (Convert from kilograms to pounds)**\n",
        "\n",
        "Write a program that displays the following table (1 kilogram = 2.2 pounds):\n",
        "```\n",
        "Kilograms Pounds\n",
        "1         2.2\n",
        "2         4.4\n",
        "3         6.6\n",
        "...\n",
        "9         19.8\n",
        "10        22.0\n",
        "```"
      ]
    },
    {
      "cell_type": "code",
      "metadata": {
        "id": "YbH9Pbul9rK-",
        "colab": {
          "base_uri": "https://localhost:8080/"
        },
        "outputId": "50a89ba6-0ca8-4aa7-df60-a2d1e316e2ec"
      },
      "source": [
        "# heading\n",
        "print(\"{0:<10}{1}\".format(\"Kilograms\", \"Pounds\"))\n",
        "\n",
        "# loop\n",
        "for kgs in range(1, 11):\n",
        "    # value\n",
        "    print(\"{0:<10}{1:<14.1f}\".format(kgs, kgs*2.2))"
      ],
      "execution_count": null,
      "outputs": [
        {
          "output_type": "stream",
          "name": "stdout",
          "text": [
            "Kilograms Pounds\n",
            "1         2.2           \n",
            "2         4.4           \n",
            "3         6.6           \n",
            "4         8.8           \n",
            "5         11.0          \n",
            "6         13.2          \n",
            "7         15.4          \n",
            "8         17.6          \n",
            "9         19.8          \n",
            "10        22.0          \n"
          ]
        }
      ]
    },
    {
      "cell_type": "markdown",
      "metadata": {
        "id": "V9Z95nlg97e4"
      },
      "source": [
        "**Q7. (Convert from miles to kilometres)**\n",
        "\n",
        "Write a program that displays the following two tables side-by-side (1 mile = 1.609 kilometres):\n",
        "```\n",
        "Miles\tKilometers\tKilometres\tMiles\n",
        "1    \t1.609     \t20        \t12.430\n",
        "2    \t3.218     \t25        \t15.538\n",
        "\n",
        "...\n",
        "9    \t14.481    \t60        \t37.290\n",
        "10   \t16.090    \t65        \t40.398\n",
        "```\n",
        "\n"
      ]
    },
    {
      "cell_type": "code",
      "metadata": {
        "id": "1AZvvAW499PK",
        "colab": {
          "base_uri": "https://localhost:8080/"
        },
        "outputId": "b74fa221-0a4d-49e5-c824-445a01f1ab37"
      },
      "source": [
        "# heading\n",
        "print(\"{0:<10}{1:<14}{2:<14}{3}\".format(\"Miles\", \"Kiliometres\", \"Kilometres\", \"Miles\"))\n",
        "km = 20 # so that km in 3rd column starts from 20\n",
        "# loop\n",
        "for miles in range(1, 11):\n",
        "    # value\n",
        "    print(\"{0:<10}{1:<14.3f}{2:<14}{3:.3f}\".format(miles, miles*1.609, km, km/1.609))\n",
        "    km += 5 # km increase by 5"
      ],
      "execution_count": null,
      "outputs": [
        {
          "output_type": "stream",
          "name": "stdout",
          "text": [
            "Miles     Kiliometres   Kilometres    Miles\n",
            "1         1.609         20            12.430\n",
            "2         3.218         25            15.538\n",
            "3         4.827         30            18.645\n",
            "4         6.436         35            21.753\n",
            "5         8.045         40            24.860\n",
            "6         9.654         45            27.968\n",
            "7         11.263        50            31.075\n",
            "8         12.872        55            34.183\n",
            "9         14.481        60            37.290\n",
            "10        16.090        65            40.398\n"
          ]
        }
      ]
    },
    {
      "cell_type": "markdown",
      "metadata": {
        "id": "79toYNfyD9XP"
      },
      "source": [
        "**Q8. (Find two highest scores)**\n",
        "\n",
        "Write a program that prompts the user to enter the number of students and each student's name and score, and finally displays the student with the highest score and the student with the second-highest score. Enter up to 5 student records.\n",
        "\n"
      ]
    },
    {
      "cell_type": "code",
      "metadata": {
        "id": "Se5J95IjC9bT",
        "outputId": "4d6ffd75-4f19-4f9a-b5d1-99442d320f56",
        "colab": {
          "base_uri": "https://localhost:8080/"
        }
      },
      "source": [
        "# number of students\n",
        "i = int(input(\"Number of students: \"))\n",
        "scorelist = {} # empty dictionary\n",
        "\n",
        "# inputs for students' names and scores\n",
        "for x in range(i):\n",
        "    name = input(\"Enter student name: \")\n",
        "    score = int(input(\"Enter student score: \"))\n",
        "    scorelist[name] = score # stores inputs into dictionary\n",
        "\n",
        "# print(scorelist)\n",
        "\n",
        "# extract scores into a list and sorts the list\n",
        "scores = list(scorelist.values())\n",
        "scores.sort(reverse=True)\n",
        "# print(scores)\n",
        "maxscore = scores[0] # score of top student\n",
        "max2score = scores[1] # score of 2nd student\n",
        "\n",
        "# function to get name of student from score\n",
        "def GetKey(val):\n",
        "    for name, score in scorelist.items():\n",
        "        if val == score:\n",
        "            return name\n",
        "    return \"no key\"\n",
        "\n",
        "# output\n",
        "print(\"Name of top student is\", GetKey(maxscore), \"with score\", maxscore)\n",
        "print(\"Name of 2nd student is\", GetKey(max2score), \"with score\", max2score)"
      ],
      "execution_count": null,
      "outputs": [
        {
          "output_type": "stream",
          "name": "stdout",
          "text": [
            "Number of students: 4\n",
            "Enter student name: Tan\n",
            "Enter student score: 66\n",
            "Enter student name: Lor\n",
            "Enter student score: 34\n",
            "Enter student name: Chin\n",
            "Enter student score: 4\n",
            "Enter student name: Lim\n",
            "Enter student score: 67\n",
            "Name of top student is Lim with score 67\n",
            "Name of 2nd student is Tan with score 66\n"
          ]
        }
      ]
    },
    {
      "cell_type": "markdown",
      "metadata": {
        "id": "seLRswd3ED9x"
      },
      "source": [
        "**Q9. (Finding the smallest n such that n<sup>2</sup> > 12000)**\n",
        "\n",
        "Use a while loop to find the smallest integer n such that n<sup>2</sup> is greater than 12,000. "
      ]
    },
    {
      "cell_type": "code",
      "metadata": {
        "id": "n_1AS9EREHgQ",
        "colab": {
          "base_uri": "https://localhost:8080/"
        },
        "outputId": "85e57af1-24f1-447a-e733-21b56057924e"
      },
      "source": [
        "n = 1\n",
        "while n * n < 12000:\n",
        "    n += 1\n",
        "print(\"The smallest integer n such n^2 is greater than 12,000 is\", n,\".\")"
      ],
      "execution_count": null,
      "outputs": [
        {
          "output_type": "stream",
          "name": "stdout",
          "text": [
            "The smallest integer n such n^2 is greater than 12,000 is 110 .\n"
          ]
        }
      ]
    },
    {
      "cell_type": "markdown",
      "metadata": {
        "id": "YHyv5TE6EH24"
      },
      "source": [
        "**Q10. (Finding the largest n such that n<sup>3</sup> < 12000)** \n",
        "\n",
        "Use a while loop to find the largest integer n such that n<sup>3</sup> is less than 12,000."
      ]
    },
    {
      "cell_type": "code",
      "metadata": {
        "id": "B--GNWkcEKkR",
        "colab": {
          "base_uri": "https://localhost:8080/"
        },
        "outputId": "7c2e40a4-f4d4-46e0-947f-1fe7a30a94e9"
      },
      "source": [
        "n = 1\n",
        "while n ** 3 < 12000:\n",
        "    n += 1\n",
        "print(\"The largest integer n such that n^3 is less than 12,000 is\", n - 1, \".\")"
      ],
      "execution_count": null,
      "outputs": [
        {
          "output_type": "stream",
          "name": "stdout",
          "text": [
            "The largest integer n such that n^3 is less than 12,000 is 22 .\n"
          ]
        }
      ]
    },
    {
      "cell_type": "markdown",
      "metadata": {
        "id": "lr8Er0cXEKzY"
      },
      "source": [
        "**Q11. (Computing the greatest common divisor)**\n",
        "\n",
        "A solution to find the greatest common divisor of two integers n1 and n2 is as follows:\n",
        "* First find d to be the minimum of n1 and n2\n",
        "* Then check whether d, d-1, … d-2, 2, or 1 is a divisor for both n1 and n2 in this order.\n",
        "* The first such common divisor is the greatest common divisor for n1 and n2. \n",
        "\n",
        "Write a program to implement this solution.  \n",
        "Sample interaction:\n",
        "```\n",
        "Enter n1: 12\n",
        "Enter n2: 18\n",
        "GCD: 6\n",
        "```"
      ]
    },
    {
      "cell_type": "code",
      "metadata": {
        "id": "T8iKWDpgEOSw",
        "colab": {
          "base_uri": "https://localhost:8080/"
        },
        "outputId": "2df11a24-322a-42ba-b9f6-4912142dc35b"
      },
      "source": [
        "#input values\n",
        "n1 = int(input(\"Enter first integer:\"))\n",
        "n2 = int(input(\"Enter second integer:\"))\n",
        "d = min(n1, n2)\n",
        "\n",
        "#check if d is a factor of both n1 and n2\n",
        "while (n1 % d != 0) or (n2 % d != 0):\n",
        "    d = d - 1 # process will terminate at d = 1 as 1 is a common divisor of any 2 integers.\n",
        "print(\"The gcd is\", d)"
      ],
      "execution_count": null,
      "outputs": [
        {
          "output_type": "stream",
          "name": "stdout",
          "text": [
            "Enter first integer:549\n",
            "Enter second integer:34\n",
            "The gcd is 1\n"
          ]
        }
      ]
    },
    {
      "cell_type": "markdown",
      "metadata": {
        "id": "-kojjY6zEOkn"
      },
      "source": [
        "**Q12. (Find factors of a positive integer)**\n",
        "\n",
        "Write a program that reads a positive integer > 1 and displays all its factors.   \n",
        "Sample interaction:\n",
        "```\n",
        "Enter n: 120\n",
        "Factors: 2 2 2 3 5 \n",
        "```"
      ]
    },
    {
      "cell_type": "code",
      "metadata": {
        "id": "s3hoL9l5EPjU",
        "colab": {
          "base_uri": "https://localhost:8080/"
        },
        "outputId": "de4408ba-3b9d-479c-9ff3-d71d04171ef3"
      },
      "source": [
        "d = 1\n",
        "n = 1\n",
        "#input a value and check that it is more than 1\n",
        "while n <= 1:\n",
        "    n = int(input(\"Enter a positive integer more than 1: \"))\n",
        "\n",
        "print(\"Factors: \")\n",
        "while d <= n:\n",
        "    if n % d == 0: # find divisors of n\n",
        "        print(d, end = ' ')\n",
        "    d = d + 1"
      ],
      "execution_count": null,
      "outputs": [
        {
          "output_type": "stream",
          "name": "stdout",
          "text": [
            "Enter a positive integer more than 1: 32\n",
            "Factors: \n",
            "1 2 4 8 16 32 "
          ]
        }
      ]
    }
  ]
}