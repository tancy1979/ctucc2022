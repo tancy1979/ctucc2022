{
  "nbformat": 4,
  "nbformat_minor": 0,
  "metadata": {
    "colab": {
      "name": "Chor Yean Tan - Python Programming Practical 5.ipynb",
      "provenance": [],
      "include_colab_link": true
    },
    "kernelspec": {
      "name": "python3",
      "display_name": "Python 3"
    },
    "language_info": {
      "name": "python"
    }
  },
  "cells": [
    {
      "cell_type": "markdown",
      "metadata": {
        "id": "view-in-github",
        "colab_type": "text"
      },
      "source": [
        "<a href=\"https://colab.research.google.com/github/tancy1979/ctucc2022/blob/main/Chor_Yean_Tan_Python_Programming_Practical_5.ipynb\" target=\"_parent\"><img src=\"https://colab.research.google.com/assets/colab-badge.svg\" alt=\"Open In Colab\"/></a>"
      ]
    },
    {
      "cell_type": "markdown",
      "source": [
        "# 2022 Python Programming Practical 5\n",
        "\n",
        "## Number Bases\n",
        "- Denary / Decimal (base 10) - 0 1 2 3 4 5 6 7 8 9 \n",
        "- Binary (base 2) - 0 1\n",
        "- Hexadecimal (base 16) 0 1 2 3 4 5 6 7 8 9 A B C D E F\n",
        "\n",
        "## Conversions\n",
        "- denary/decimal to binary\n",
        "- denary/decimal to hexadecimal\n",
        "- binary to denary/decimal\n",
        "- hexadecimal to denary/decimal\n",
        "- binary to hexadecimal\n",
        "- hexadecimal to binary"
      ],
      "metadata": {
        "id": "2lC-93mIj1i9"
      }
    },
    {
      "cell_type": "markdown",
      "source": [
        "**Q1.** Implement a denary/decimal to binary converter which takes in an integer in base 10 and returns a string representing its binary number equivalent."
      ],
      "metadata": {
        "id": "KD4UO-w1PuBu"
      }
    },
    {
      "cell_type": "code",
      "execution_count": null,
      "metadata": {
        "id": "qP3_JWl_zcdy",
        "colab": {
          "base_uri": "https://localhost:8080/"
        },
        "outputId": "69f249a0-1bbd-44e1-d137-ff3e56bdd5e7"
      },
      "outputs": [
        {
          "output_type": "stream",
          "name": "stdout",
          "text": [
            "10111\n",
            "0b10111\n",
            "0\n",
            "1\n",
            "1111100111\n"
          ]
        }
      ],
      "source": [
        "# denary/decimal to binary\n",
        "def dec2bin(num):\n",
        "  # declare result variable\n",
        "  result = ''\n",
        "  while num != 0: # loop while can still divide / quotient is non-zero\n",
        "    remainder = num % 2 # divide and get remainder (0 or 1)\n",
        "    num = num // 2 # reduce number / quotient by 2\n",
        "    result = str(remainder) + result # add remainder to the front of result\n",
        "  if result == '': # when num is 0\n",
        "    result = '0'\n",
        "  return result \n",
        "\n",
        "# main\n",
        "print(dec2bin(23))\n",
        "print(bin(23)) # in built dec to binary converter\n",
        "print(dec2bin(0))\n",
        "print(dec2bin(1))\n",
        "print(dec2bin(999))"
      ]
    },
    {
      "cell_type": "markdown",
      "source": [
        "**Q2.** Implement a denary/decimal to hexadecimal converter which takes in an integer in base 10 and returns a string representing its hexadecimal number equivalent."
      ],
      "metadata": {
        "id": "_DnFkYafQlRk"
      }
    },
    {
      "cell_type": "code",
      "source": [
        "# denary/decimal to hexadecimal\n",
        "def dec2hex(num):\n",
        "  dec_hex_map = {10: 'A', 11:'B', 12:'C', 13:'D', 14:'E', 15:'F'}\n",
        "  # declare result variable\n",
        "  result = ''\n",
        "  while num != 0: # loop while can still divide / quotient is non-zero\n",
        "    remainder = num % 16 # divide and get remainder (0 to 15)\n",
        "    num = num // 16 # reduce number / quotient by 16\n",
        "    if remainder > 9: # 2 digit remainder\n",
        "      result = dec_hex_map[remainder] + result\n",
        "    else: # 1 digit remainder\n",
        "      result = str(remainder) + result # add remainder to the front of result\n",
        "  if result == '': # when num is 0\n",
        "    result = '0'\n",
        "  return result \n",
        "\n",
        "print(dec2hex(1899))"
      ],
      "metadata": {
        "id": "v_IhIPrFHYnx",
        "colab": {
          "base_uri": "https://localhost:8080/"
        },
        "outputId": "60a95ca5-15b4-4f54-f7b6-d541c70d4bbe"
      },
      "execution_count": null,
      "outputs": [
        {
          "output_type": "stream",
          "name": "stdout",
          "text": [
            "76B\n"
          ]
        }
      ]
    },
    {
      "cell_type": "markdown",
      "source": [
        "**Q3.** Implement a binary to denary/decimal converter which takes in a string representing a binary number and returns its integer equivalent in base 10."
      ],
      "metadata": {
        "id": "k2E9ayiFQt9Z"
      }
    },
    {
      "cell_type": "code",
      "source": [
        "# binary to denary/decimal\n",
        "def bin2dec(bstr):\n",
        "  result = 0\n",
        "  for i in range(len(bstr)-1, -1, -1): # i from len(bstr) to 0\n",
        "    result += 2 ** i * int(bstr[-1-i])\n",
        "\n",
        "  return result\n",
        "\n",
        "print(bin2dec('10111'))"
      ],
      "metadata": {
        "id": "NcVowFTrHd-V",
        "colab": {
          "base_uri": "https://localhost:8080/"
        },
        "outputId": "138af27b-0c4d-44e0-f5d0-ea5031d0ea9b"
      },
      "execution_count": null,
      "outputs": [
        {
          "output_type": "stream",
          "name": "stdout",
          "text": [
            "23\n"
          ]
        }
      ]
    },
    {
      "cell_type": "markdown",
      "source": [
        "**Q4.** Implement a hexadecimal to denary/decimal converter which takes in a string representing a hexadecimal number and returns its integer equivalent in base 10."
      ],
      "metadata": {
        "id": "kdo0NKKlQupk"
      }
    },
    {
      "cell_type": "code",
      "source": [
        "# hexadecimal to denary/decimal\n",
        "def hex2dec(hexstr):\n",
        "  hex_dec_map = {'A':10, 'B':11, 'C':12, 'D':13, 'E':14, 'F':15, \\\n",
        "                 '0': 0, '1': 1, '2':2, '3':3, '4':4, '5':5, '6':6, \\\n",
        "                 '7':7, '8':8, '9':9}\n",
        "  num = 0\n",
        "  for i in range(len(hexstr)-1,-1,-1):\n",
        "    num += (16**i) * hex_dec_map[hexstr[-1-i]] \n",
        "  return num\n",
        "  \n",
        "hex2dec(\"E7A9\")"
      ],
      "metadata": {
        "id": "WplkzAfkHi5G",
        "colab": {
          "base_uri": "https://localhost:8080/"
        },
        "outputId": "5a45b8c9-00a7-45e0-f2d0-70e0e858e410"
      },
      "execution_count": 5,
      "outputs": [
        {
          "output_type": "stream",
          "name": "stdout",
          "text": [
            "59\n",
            "59305\n"
          ]
        },
        {
          "output_type": "execute_result",
          "data": {
            "text/plain": [
              "59305"
            ]
          },
          "metadata": {},
          "execution_count": 5
        }
      ]
    },
    {
      "cell_type": "markdown",
      "source": [
        "Q5. Implement a binary to hexadecimal converter which takes in a string representing a binary number and returns its string equivalent in hexadecimal."
      ],
      "metadata": {
        "id": "H809D3xAQvQK"
      }
    },
    {
      "cell_type": "code",
      "source": [
        "# binary to hexadecimal\n",
        "def bin2hex(bstr):\n",
        "  bin_hex_map = {'0000':'0', '0001':'1', '0010':'2', '0011':'3', '0100':'4', \\\n",
        "                 '0101':'5', '0110':'6', '0111':'7', '1000':'8', \\\n",
        "                 '1001':'9', '1010':'A', '1011':'B', '1100':'C', '1101':'D', \\\n",
        "                 '1110':'E', '1111':'F'}\n",
        "  if len(bstr) % 4 != 0: # not multiple 4\n",
        "    bstr = '0' * (4 - (len(bstr) % 4)) + bstr \n",
        "    # bstr = bstr.zfill(len(bstr) + 4 - (len(bstr) % 4))\n",
        "  result = ''\n",
        "  for i in range(0, len(bstr), 4):\n",
        "    result += bin_hex_map[bstr[i:i+4]]\n",
        "  return result\n",
        "\n",
        "\n",
        "print(bin2hex('00101100')) # 2C\n",
        "print(bin2hex('101100')) # 2C"
      ],
      "metadata": {
        "id": "7lUG1CluHlsg",
        "colab": {
          "base_uri": "https://localhost:8080/"
        },
        "outputId": "b50ad889-4bdb-4d29-c4e5-3bcd7cc3280e"
      },
      "execution_count": null,
      "outputs": [
        {
          "output_type": "stream",
          "name": "stdout",
          "text": [
            "2C\n",
            "2C\n"
          ]
        }
      ]
    },
    {
      "cell_type": "code",
      "source": [
        "'111'.zfill(8)"
      ],
      "metadata": {
        "colab": {
          "base_uri": "https://localhost:8080/",
          "height": 35
        },
        "id": "woQkAHOEwqcl",
        "outputId": "f620382b-8df3-462a-c3e4-f0e3373e6bae"
      },
      "execution_count": null,
      "outputs": [
        {
          "output_type": "execute_result",
          "data": {
            "application/vnd.google.colaboratory.intrinsic+json": {
              "type": "string"
            },
            "text/plain": [
              "'00000111'"
            ]
          },
          "metadata": {},
          "execution_count": 13
        }
      ]
    },
    {
      "cell_type": "markdown",
      "source": [
        "Q6. Implement a hexadecimal to binary converter which takes in a string representing a hexadecimal number and returns its string equivalent in binary."
      ],
      "metadata": {
        "id": "z4138f9FQv39"
      }
    },
    {
      "cell_type": "code",
      "source": [
        "# hexadecimal to binary\n",
        "def hex2bin(hexstr):\n",
        "  hex_bin_map = {'0':'0000', '1':'0001', '2':'0010', '3':'0011', '4':'0100', \\\n",
        "                 '5':'0101', '6':'0110', '7':'0111', '8':'1000', \\\n",
        "                 '9':'1001', 'A':'1010', 'B':'1011', 'C':'1100', 'D':'1101', \\\n",
        "                 'E':'1110', 'F':'1111'}\n",
        "  binstr = ''\n",
        "  for i in range(len(hexstr)):\n",
        "    binstr += hex_bin_map[hexstr[i]]\n",
        "  return binstr\n",
        "\n",
        "hex2bin(\"2C\")"
      ],
      "metadata": {
        "id": "FB5maYC5HokY",
        "colab": {
          "base_uri": "https://localhost:8080/",
          "height": 35
        },
        "outputId": "2e723a06-23a3-4711-a397-0e309ba11808"
      },
      "execution_count": 6,
      "outputs": [
        {
          "output_type": "execute_result",
          "data": {
            "application/vnd.google.colaboratory.intrinsic+json": {
              "type": "string"
            },
            "text/plain": [
              "'00101100'"
            ]
          },
          "metadata": {},
          "execution_count": 6
        }
      ]
    }
  ]
}