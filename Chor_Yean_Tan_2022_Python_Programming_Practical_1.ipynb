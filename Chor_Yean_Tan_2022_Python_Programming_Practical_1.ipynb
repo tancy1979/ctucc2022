{
  "nbformat": 4,
  "nbformat_minor": 0,
  "metadata": {
    "colab": {
      "name": "Chor Yean Tan - 2022_Python_Programming_Practical_1.ipynb",
      "provenance": [],
      "collapsed_sections": [],
      "include_colab_link": true
    },
    "kernelspec": {
      "name": "python3",
      "display_name": "Python 3"
    }
  },
  "cells": [
    {
      "cell_type": "markdown",
      "metadata": {
        "id": "view-in-github",
        "colab_type": "text"
      },
      "source": [
        "<a href=\"https://colab.research.google.com/github/tancy1979/ctucc2022/blob/main/Chor_Yean_Tan_2022_Python_Programming_Practical_1.ipynb\" target=\"_parent\"><img src=\"https://colab.research.google.com/assets/colab-badge.svg\" alt=\"Open In Colab\"/></a>"
      ]
    },
    {
      "cell_type": "markdown",
      "metadata": {
        "id": "jp3BkDml8xiR"
      },
      "source": [
        "# **2022 Python Programming Practical 1**\n",
        "\n",
        "If you do not have one already, create a [GitHub](https://github.com) account.\n",
        "\n",
        "Create a public repository ctcuc22\n",
        "\n",
        "File --> Save a copy in GitHub under this repository\n",
        "\n",
        "For the following questions,\n",
        "\n",
        "*   standard input: keyboard\n",
        "*   standard output: screen\n",
        "\n"
      ]
    },
    {
      "cell_type": "markdown",
      "metadata": {
        "id": "-U8w0oQW9P_b"
      },
      "source": [
        "**Q1. (Converting Fahrenheit to Celsius)**\n",
        "\n",
        "Write a program that reads a Fahrenheit degree as a float from standard input, then converts it to Celsius and displays the result in standard output. The formula for the conversion is:\n",
        "```\n",
        "celsius = (5/9) * (fahrenheit - 32)\n",
        "```"
      ]
    },
    {
      "cell_type": "code",
      "metadata": {
        "id": "D0uTR7B-8qbF",
        "colab": {
          "base_uri": "https://localhost:8080/"
        },
        "outputId": "e6e92d0d-9f9f-4b00-a746-d3a74a8b8c28"
      },
      "source": [
        "fahrenheit = float(input(\"Enter temperature in Fahrenheit \"))\n",
        "celsius = (5/9)* (fahrenheit - 32)\n",
        "print('The temperature in Celsius is ', round(celsius,1), 'degrees.')"
      ],
      "execution_count": 10,
      "outputs": [
        {
          "output_type": "stream",
          "name": "stdout",
          "text": [
            "Enter temperature in Fahrenheit 77\n",
            "The temperature in Celsius is  25.0 degrees.\n"
          ]
        }
      ]
    },
    {
      "cell_type": "markdown",
      "metadata": {
        "id": "7Ui5CuS_9Za1"
      },
      "source": [
        "**Q2. (Computing the volume of a cylinder)**\n",
        "\n",
        "Write a program that reads in the radius and length of a cylinder and computes its volume using the formulae:\n",
        "```\n",
        "area = radius * radius * pi\n",
        "volume = area * length\n",
        "```\n",
        "\n",
        "\n"
      ]
    },
    {
      "cell_type": "code",
      "metadata": {
        "id": "CfkRAAWV9cXS",
        "colab": {
          "base_uri": "https://localhost:8080/"
        },
        "outputId": "9c0ee209-2fa8-486f-e7ca-3e9e16cfb863"
      },
      "source": [
        "#constant or import math for fixed value of pi (use math.pi)\n",
        "# use from math import pi to only import value of pi (use pi)\n",
        "PI = 3.142\n",
        "\n",
        "radius = float((input(\"Enter the radius of the cylinder: \")))\n",
        "length = float((input(\"Enter the length of the cylinder: \")))\n",
        "\n",
        "area = radius * radius * PI \n",
        "volume = area * length\n",
        "\n",
        "print('The area and volume of the cylinder is ', round(area,1), 'units square and ', round(volume,1), 'units cube.' )"
      ],
      "execution_count": 11,
      "outputs": [
        {
          "output_type": "stream",
          "name": "stdout",
          "text": [
            "Enter the radius of the cylinder: 5\n",
            "Enter the length of the cylinder: 10\n",
            "The area and volume of the cylinder is  78.5 units square and  785.5 units cube.\n"
          ]
        }
      ]
    },
    {
      "cell_type": "markdown",
      "metadata": {
        "id": "aVhHiT8w9c7d"
      },
      "source": [
        "**Q3. (Converting miles into kilometers)**\n",
        "\n",
        "Write a program that reads a number in miles, converts it to kilometres, and outputs the result. One mile is 1.60934 kilometres. Display your answer correct to 3 decimal places."
      ]
    },
    {
      "cell_type": "code",
      "metadata": {
        "id": "PwRmweEa9fny",
        "colab": {
          "base_uri": "https://localhost:8080/"
        },
        "outputId": "fbc189c7-283c-4ef8-b464-f281811d9876"
      },
      "source": [
        "mile = float((input(\"Enter distance in miles: \")))\n",
        "\n",
        "km = mile * 1.60934 \n",
        "\n",
        "print('The distance in kilometers is', round(km,3),'.')"
      ],
      "execution_count": 24,
      "outputs": [
        {
          "output_type": "stream",
          "name": "stdout",
          "text": [
            "Enter distance in miles: 160404\n",
            "The distance in kilometers is 258144.573 .\n"
          ]
        }
      ]
    },
    {
      "cell_type": "markdown",
      "metadata": {
        "id": "GwAIqQNY9gFd"
      },
      "source": [
        "**Q4. (Summing the digits in an integer)**\n",
        "\n",
        "Write a program that reads an integer between 0 and 1000 and adds all the digits in the integer. For example, if an integer is 932, the sum of all its digits is 14.\n",
        "\n",
        "Hint: Use the % operator to extract digits, and use the // operator to remove the extracted digit. For instance, 932 % 10 = 2 and 932 // 10 = 93"
      ]
    },
    {
      "cell_type": "code",
      "metadata": {
        "id": "aOozTwoR9j9B",
        "colab": {
          "base_uri": "https://localhost:8080/"
        },
        "outputId": "5ae22065-e5a6-487c-fded-f28343d349df"
      },
      "source": [
        "num = int(input('Type an integer between 0 and 1000: '))\n",
        "dig1 = num % 10\n",
        "num = num // 10\n",
        "\n",
        "dig2 = num % 10\n",
        "num = num // 10\n",
        "\n",
        "dig3 = num % 10\n",
        "num = num // 10\n",
        "\n",
        "dig4 = num % 10\n",
        "num = num // 10\n",
        "\n",
        "sum = dig1 + dig2 + dig3 + dig4\n",
        "\n",
        "print('The sum of the digits is',sum)"
      ],
      "execution_count": 17,
      "outputs": [
        {
          "output_type": "stream",
          "name": "stdout",
          "text": [
            "Type an integer between 0 and 10001234\n",
            "The sum of the digits is 10\n"
          ]
        }
      ]
    },
    {
      "cell_type": "markdown",
      "metadata": {
        "id": "lE0ScX9e9kcg"
      },
      "source": [
        "**Q5. (Converting an uppercase letter to lowercase)**\n",
        "\n",
        "Write a program that converts an uppercase letter from standard input to a lowercase letter by making use of its ASCII value.\n",
        "\n",
        "http://www.asciitable.com"
      ]
    },
    {
      "cell_type": "code",
      "metadata": {
        "id": "sE_bxwDs9mf6",
        "outputId": "38a3c0e1-b5fa-4875-b987-fcc66f3f6b5b",
        "colab": {
          "base_uri": "https://localhost:8080/",
          "height": 52
        }
      },
      "source": [
        "upper = input(\"Enter uppercase letter: \")\n",
        "lower = ord(upper) + 32 # ordinal\n",
        "print(chr(lower))"
      ],
      "execution_count": null,
      "outputs": [
        {
          "output_type": "stream",
          "text": [
            "Enter uppercase letter: Y\n",
            "y\n"
          ],
          "name": "stdout"
        }
      ]
    },
    {
      "cell_type": "markdown",
      "metadata": {
        "id": "KSviQY0T9m7Q"
      },
      "source": [
        "**Q6. (Finding the character of an ASCII code)**\n",
        "\n",
        "Write a program that receives an ASCII value (an integer between 0 and 127) and displays its character. For example, if the user enters 97, the program displays character a.\n",
        "\n",
        "http://www.asciitable.com"
      ]
    },
    {
      "cell_type": "code",
      "metadata": {
        "id": "YbH9Pbul9rK-",
        "colab": {
          "base_uri": "https://localhost:8080/"
        },
        "outputId": "05255f77-b859-43cd-e441-adcec2bc6213"
      },
      "source": [
        "num = int(input(\"ASCII value: \"))\n",
        "print(chr(num))\n"
      ],
      "execution_count": 20,
      "outputs": [
        {
          "output_type": "stream",
          "name": "stdout",
          "text": [
            "ASCII value: 97\n",
            "a\n"
          ]
        }
      ]
    },
    {
      "cell_type": "markdown",
      "metadata": {
        "id": "V9Z95nlg97e4"
      },
      "source": [
        "**Q7. (Payroll)**\n",
        "\n",
        "Write a program that reads in the following information and prints a payroll statement. A sample input and output session is as follows:\n",
        "\n",
        "Sample input:\n",
        "```\n",
        "Enter name: Lim Ah Seng\n",
        "Enter number of hours worked weekly: 10\n",
        "Enter hourly pay rate: 6.75\n",
        "Enter CPF contribution rate(%): 20\n",
        "```\n",
        "\n",
        "Sample output:\n",
        "```\n",
        "Payroll statement for Lim Ah Seng\n",
        "Number of hours worked in week: 10\n",
        "Hourly pay rate: $6.75\n",
        "Gross pay = $67.50\n",
        "CPF contribution at 20% = $13.50\n",
        "Net pay = $54.00\n",
        "```\n",
        "\n"
      ]
    },
    {
      "cell_type": "code",
      "metadata": {
        "id": "1AZvvAW499PK",
        "colab": {
          "base_uri": "https://localhost:8080/"
        },
        "outputId": "4683c66a-d686-4c5f-ae6d-51912fa60b5c"
      },
      "source": [
        "name = input(\"Enter name: \")\n",
        "hour = int(input(\"Enter number of hours worked weekly (to nearest whole number): \"))\n",
        "pay = float(input(\"Enter hourly pay rate: \"))\n",
        "cpf = int(input(\"Enter CPF contribution rate(%): \"))\n",
        "\n",
        "gross = hour * pay\n",
        "cpf_con = gross * (cpf / 100)\n",
        "net = gross - cpf_con\n",
        "\n",
        "print(\"\\n\")\n",
        "\n",
        "print(\"Payroll statement for\", name)\n",
        "print(\"Number of hours worked in week:\", hour)\n",
        "print(\"Hourly pay rate = $\"+ \"{:.2f}\".format(pay))\n",
        "print(\"Gross pay = $\"+ \"{:.2f}\".format(gross))\n",
        "print(\"CPF contribution rate at\", cpf,\"% = $\"+\"{:.2f}\".format(cpf_con))\n",
        "print(\"Net pay = $\"+\"{:.2f}\".format(net))\n",
        " "
      ],
      "execution_count": 41,
      "outputs": [
        {
          "output_type": "stream",
          "name": "stdout",
          "text": [
            "Enter name: tim\n",
            "Enter number of hours worked weekly (to nearest whole number): 100\n",
            "Enter hourly pay rate: 12.0\n",
            "Enter CPF contribution rate(%): 20\n",
            "\n",
            "\n",
            "Payroll statement for tim\n",
            "Number of hours worked in week: 100\n",
            "Hourly pay rate = $12.00\n",
            "Gross pay = $1200.00\n",
            "CPF contribution rate at 20 % = $240.00\n",
            "Net pay = $960.00\n",
            "0.0\n"
          ]
        }
      ]
    }
  ]
}