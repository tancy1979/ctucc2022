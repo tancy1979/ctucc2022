{
  "nbformat": 4,
  "nbformat_minor": 0,
  "metadata": {
    "colab": {
      "name": "Chor Yean Tan - CTCUC22Assignment01.ipynb",
      "provenance": [],
      "include_colab_link": true
    },
    "kernelspec": {
      "name": "python3",
      "display_name": "Python 3"
    },
    "language_info": {
      "name": "python"
    }
  },
  "cells": [
    {
      "cell_type": "markdown",
      "metadata": {
        "id": "view-in-github",
        "colab_type": "text"
      },
      "source": [
        "<a href=\"https://colab.research.google.com/github/tancy1979/ctucc2022/blob/main/Chor_Yean_Tan_CTCUC22Assignment01.ipynb\" target=\"_parent\"><img src=\"https://colab.research.google.com/assets/colab-badge.svg\" alt=\"Open In Colab\"/></a>"
      ]
    },
    {
      "cell_type": "markdown",
      "source": [
        "# Assignment 1\n",
        "(assignment means need to submit one ah :)) \n",
        "\n",
        "**Due**: Typically a day before the following CTCUC session. Early and quality submissions earn bonus credit. :)"
      ],
      "metadata": {
        "id": "Jw0wneGxsQK7"
      }
    },
    {
      "cell_type": "markdown",
      "source": [
        "Encryption is the process of converting a plaintext to cipher text so that the original message is 'hidden'.\n",
        "\n",
        "Referring to the [ASCII table](https://asciitable.com) or otherwise, write program code that encrypts plaintext A to ciphertext B. Annotate your program code using appropriate comments. \n",
        "\n",
        "You may assume both strings contain only printable characters (i.e. ASCII decimal values 33 to 126). Using comments, state reasonable assumptions (if any) at the start of your program eg explain how you would handle edge cases."
      ],
      "metadata": {
        "id": "kB4owajve4X1"
      }
    },
    {
      "cell_type": "code",
      "execution_count": null,
      "metadata": {
        "id": "-k9kZ8v-hwtn",
        "colab": {
          "base_uri": "https://localhost:8080/"
        },
        "outputId": "2ec955c6-b04f-47c3-f2a8-c45999953939"
      },
      "outputs": [
        {
          "output_type": "stream",
          "name": "stdout",
          "text": [
            "Enter plaintext: CTC\n",
            "Ciphertext: 678467\n"
          ]
        }
      ],
      "source": [
        "# A: \"CTCUC22\" -> B: \"67846785675050\"\n",
        "\n",
        "# input (and convert to appropriate data type)\n",
        "plaintext = input(\"Enter plaintext: \")\n",
        "# plaintext = \"CTUC22\" if want to skip input and generate ciphertext directly\n",
        "\n",
        "# process\n",
        "ciphertext = \"\"\n",
        "for char in plaintext: \n",
        "   ciphertext = ciphertext + str(ord(char)) # ciphertext += str(ord(char))\n",
        "\n",
        "for i in range(len(plaintext)):\n",
        "    ciphertext = ciphertext + str(ord(plaintext[i]))\n",
        "\n",
        "# output\n",
        "print(\"Ciphertext:\", ciphertext)"
      ]
    },
    {
      "cell_type": "code",
      "execution_count": null,
      "metadata": {
        "id": "OZ_TM9unezQk",
        "colab": {
          "base_uri": "https://localhost:8080/"
        },
        "outputId": "d1fa6b9b-924a-4a3b-827d-8430a74111a9"
      },
      "outputs": [
        {
          "output_type": "stream",
          "name": "stdout",
          "text": [
            "Enter plaintext (capital letters only): ABC\n",
            "Ciphertext:  bcd\n"
          ]
        }
      ],
      "source": [
        "# A: \"ABC\" -> B: \"bcd\"\n",
        "\n",
        "# input\n",
        "plaintext = input(\"Enter plaintext (capital letters only): \") # To process capital letters only\n",
        "\n",
        "# process\n",
        "ciphertext = \"\"\n",
        "for i in range(len(plaintext)):\n",
        "    ciphertext = ciphertext + chr(ord(plaintext[i]) + 33)\n",
        "\n",
        "# output\n",
        "print(\"Ciphertext: \", ciphertext)\n"
      ]
    },
    {
      "cell_type": "code",
      "execution_count": null,
      "metadata": {
        "id": "3-eUrFojheg1",
        "colab": {
          "base_uri": "https://localhost:8080/"
        },
        "outputId": "a81f50cf-c4d8-4f80-85ac-eafd77d8e228"
      },
      "outputs": [
        {
          "output_type": "stream",
          "name": "stdout",
          "text": [
            "Enter plaintext (small letters only): abc\n",
            "Ciphertext:  ZYX\n"
          ]
        }
      ],
      "source": [
        "# A: \"abc\" -> B: \"ZYX\"\n",
        "\n",
        "# input\n",
        "plaintext = input(\"Enter plaintext (small letters only): \") # To process small letters only\n",
        "\n",
        "# process\n",
        "ciphertext = \"\"\n",
        "for i in range(len(plaintext)):\n",
        "    ciphertext = ciphertext + chr(219 - ord(plaintext[i]) - 32) # pair the small letters such that sum of ASCII is always 219 eg. a and z, then minus 32 for capital letters \n",
        "\n",
        "# output\n",
        "print(\"Ciphertext: \", ciphertext)\n"
      ]
    },
    {
      "cell_type": "markdown",
      "source": [
        "Decryption is the reverse process to recover plaintext from the ciphertext. Write program code to decrypt the ciphertext back to its plaintext."
      ],
      "metadata": {
        "id": "y-IFMUESobVC"
      }
    },
    {
      "cell_type": "code",
      "source": [
        "# B: \"67846785675050\" -> A: \"CTCUC22\"\n",
        "# Assume that the ASCII codes are 2 digits.\n",
        "ciphertext = str(input(\"Key in the ciphertext: \"))\n",
        "\n",
        "print(\"The plaintext is\")\n",
        "\n",
        "for i in range(1, (len(ciphertext)), 2): \n",
        "    print(chr(int(ciphertext[i-1] + ciphertext[i])), end=\"\")\n"
      ],
      "metadata": {
        "id": "ZzD7S2mtpO4Y",
        "colab": {
          "base_uri": "https://localhost:8080/"
        },
        "outputId": "e0fc6f91-c556-48fe-e053-b768966d3d50"
      },
      "execution_count": null,
      "outputs": [
        {
          "output_type": "stream",
          "name": "stdout",
          "text": [
            "Key in the ciphertext: 6783\n",
            "The plaintext is\n",
            "CS"
          ]
        }
      ]
    },
    {
      "cell_type": "code",
      "source": [
        "# B: \"bcd\" -> A: \"ABC\" \n",
        "\n",
        "# input\n",
        "ciphertext = input(\"Enter ciphertext (small letters only): \") # To process small letters only\n",
        "\n",
        "# process\n",
        "plaintext = \"\"\n",
        "for i in range(len(ciphertext)):\n",
        "    plaintext = plaintext + chr(ord(ciphertext[i]) - 33)\n",
        "\n",
        "# output\n",
        "print(\"Plaintext: \", plaintext)"
      ],
      "metadata": {
        "id": "d90Sf5IIyL_w",
        "colab": {
          "base_uri": "https://localhost:8080/"
        },
        "outputId": "d4e86408-7132-458c-f688-426f5e47a152"
      },
      "execution_count": null,
      "outputs": [
        {
          "output_type": "stream",
          "name": "stdout",
          "text": [
            "Enter ciphertext (small letters only): bcd\n",
            "Plaintext:  ABC\n"
          ]
        }
      ]
    },
    {
      "cell_type": "code",
      "source": [
        "# B: \"ZYX\" -> A: \"abc\"\n",
        "\n",
        "# input\n",
        "ciphertext = input(\"Enter ciphertext (capital letters only): \") # To process capital letters only\n",
        "\n",
        "# process\n",
        "plaintext = \"\"\n",
        "for i in range(len(ciphertext)):\n",
        "    plaintext = plaintext + chr(219 - (ord(ciphertext[i]) + 32)) # add 32 for small letters, then pair the small letters such that sum of ASCII is always 219 eg. a and z. \n",
        "\n",
        "# output\n",
        "print(\"Plaintext: \", plaintext)"
      ],
      "metadata": {
        "id": "nJXq-INMyNBG",
        "colab": {
          "base_uri": "https://localhost:8080/"
        },
        "outputId": "f31d51df-1dc8-4557-d975-1a480b95d800"
      },
      "execution_count": null,
      "outputs": [
        {
          "output_type": "stream",
          "name": "stdout",
          "text": [
            "Enter ciphertext (capital letters only): ZYX\n",
            "Plaintext:  abc\n"
          ]
        }
      ]
    },
    {
      "cell_type": "markdown",
      "source": [
        "Devise and implement a happening encryption algorithm to convert the plaintext \"Computing\" to some 'interesting' ciphertext eg \"Interconnectedness\". Express your algorithm using pseudocode in the text cell below. Implement your algorithm in the following code cell. \n",
        "\n",
        "Note: Please try not to do something too mind boggling eg https://spyscape.com/article/can-you-crack-these-10-mind-boggling-ciphers-and-codes :)"
      ],
      "metadata": {
        "id": "FqLM6SOxpS69"
      }
    },
    {
      "cell_type": "markdown",
      "source": [
        "Algorithm\n",
        "```\n",
        "INPUT plaintext\n",
        "PROCESS\n",
        "OUTPUT ciphertext\n",
        "\n",
        "```"
      ],
      "metadata": {
        "id": "7So4k6zAp9cN"
      }
    },
    {
      "cell_type": "code",
      "source": [
        "# Implementation of not interesting encryption\n",
        "# input\n",
        "ciphertext = input(\"Enter ciphertext: \")\n",
        "\n",
        "# process\n",
        "plaintext = \"\"\n",
        "for i in range(len(ciphertext)):\n",
        "    if 65 <= ord(ciphertext[i]) <= 90: # dealing with capital letters\n",
        "        j = ord(ciphertext[i]) + 13\n",
        "        if j <= 90:\n",
        "            plaintext = plaintext + chr(j)\n",
        "        else: # j > 90\n",
        "            plaintext = plaintext + chr(j - 26)\n",
        "    else: # dealing with small letters\n",
        "        k = ord(ciphertext[i]) + 14\n",
        "        if k <= 122:\n",
        "            plaintext = plaintext + chr(k)\n",
        "        else: # k > 122\n",
        "            plaintext = plaintext + chr(k - 26)\n",
        "# output\n",
        "print(plaintext)        "
      ],
      "metadata": {
        "id": "sW_f9BRQp_Q2",
        "colab": {
          "base_uri": "https://localhost:8080/"
        },
        "outputId": "efcdded3-2e84-4044-8afb-2694c0bf128a"
      },
      "execution_count": null,
      "outputs": [
        {
          "output_type": "stream",
          "name": "stdout",
          "text": [
            "Enter ciphertext: Computing\n",
            "Pcadihwbu\n"
          ]
        }
      ]
    },
    {
      "cell_type": "markdown",
      "source": [
        "Record the teaching of your happening encryption algorithm and implementation (using live coding) to your students. Submit this to Session 2 feedback. :)"
      ],
      "metadata": {
        "id": "QAwwTLI6qfs1"
      }
    },
    {
      "cell_type": "markdown",
      "source": [
        "[Optional/Advanced] Devise and implement the decryption algorithm for your happening encryption algorithm. :)"
      ],
      "metadata": {
        "id": "chBgfWkVwQXY"
      }
    },
    {
      "cell_type": "markdown",
      "source": [
        ""
      ],
      "metadata": {
        "id": "FUv5goJywyG2"
      }
    },
    {
      "cell_type": "code",
      "source": [
        ""
      ],
      "metadata": {
        "id": "KuMAySyp0KyI"
      },
      "execution_count": null,
      "outputs": []
    }
  ]
}